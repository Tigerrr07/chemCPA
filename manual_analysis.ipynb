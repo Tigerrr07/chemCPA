{
 "cells": [
  {
   "cell_type": "code",
   "execution_count": 1,
   "metadata": {},
   "outputs": [],
   "source": [
    "import scanpy as sc\n",
    "import numpy as np\n",
    "import anndata"
   ]
  },
  {
   "cell_type": "code",
   "execution_count": 2,
   "metadata": {},
   "outputs": [],
   "source": [
    "data_path = \"project_folder/datasets/lincs_full_smiles_sciplex_genes.h5ad\"\n",
    "data = sc.read(data_path)"
   ]
  },
  {
   "cell_type": "code",
   "execution_count": 3,
   "metadata": {},
   "outputs": [
    {
     "data": {
      "text/html": [
       "<div>\n",
       "<style scoped>\n",
       "    .dataframe tbody tr th:only-of-type {\n",
       "        vertical-align: middle;\n",
       "    }\n",
       "\n",
       "    .dataframe tbody tr th {\n",
       "        vertical-align: top;\n",
       "    }\n",
       "\n",
       "    .dataframe thead th {\n",
       "        text-align: right;\n",
       "    }\n",
       "</style>\n",
       "<table border=\"1\" class=\"dataframe\">\n",
       "  <thead>\n",
       "    <tr style=\"text-align: right;\">\n",
       "      <th></th>\n",
       "      <th>pr_gene_title</th>\n",
       "      <th>pr_is_lm</th>\n",
       "      <th>pr_is_bing</th>\n",
       "      <th>gene_id</th>\n",
       "      <th>in_sciplex</th>\n",
       "    </tr>\n",
       "  </thead>\n",
       "  <tbody>\n",
       "    <tr>\n",
       "      <th>DDR1</th>\n",
       "      <td>discoidin domain receptor tyrosine kinase 1</td>\n",
       "      <td>1</td>\n",
       "      <td>1</td>\n",
       "      <td>ENSG00000204580</td>\n",
       "      <td>True</td>\n",
       "    </tr>\n",
       "    <tr>\n",
       "      <th>PAX8</th>\n",
       "      <td>paired box 8</td>\n",
       "      <td>1</td>\n",
       "      <td>1</td>\n",
       "      <td>ENSG00000125618</td>\n",
       "      <td>True</td>\n",
       "    </tr>\n",
       "    <tr>\n",
       "      <th>RPS5</th>\n",
       "      <td>ribosomal protein S5</td>\n",
       "      <td>1</td>\n",
       "      <td>1</td>\n",
       "      <td>ENSG00000083845</td>\n",
       "      <td>True</td>\n",
       "    </tr>\n",
       "    <tr>\n",
       "      <th>ABCF1</th>\n",
       "      <td>ATP binding cassette subfamily F member 1</td>\n",
       "      <td>1</td>\n",
       "      <td>1</td>\n",
       "      <td>ENSG00000204574</td>\n",
       "      <td>True</td>\n",
       "    </tr>\n",
       "    <tr>\n",
       "      <th>SPAG7</th>\n",
       "      <td>sperm associated antigen 7</td>\n",
       "      <td>1</td>\n",
       "      <td>1</td>\n",
       "      <td>ENSG00000091640</td>\n",
       "      <td>True</td>\n",
       "    </tr>\n",
       "    <tr>\n",
       "      <th>...</th>\n",
       "      <td>...</td>\n",
       "      <td>...</td>\n",
       "      <td>...</td>\n",
       "      <td>...</td>\n",
       "      <td>...</td>\n",
       "    </tr>\n",
       "    <tr>\n",
       "      <th>PPARD</th>\n",
       "      <td>peroxisome proliferator activated receptor delta</td>\n",
       "      <td>1</td>\n",
       "      <td>1</td>\n",
       "      <td>ENSG00000112033</td>\n",
       "      <td>True</td>\n",
       "    </tr>\n",
       "    <tr>\n",
       "      <th>GNA11</th>\n",
       "      <td>guanine nucleotide binding protein (G protein)...</td>\n",
       "      <td>1</td>\n",
       "      <td>1</td>\n",
       "      <td>ENSG00000088256</td>\n",
       "      <td>True</td>\n",
       "    </tr>\n",
       "    <tr>\n",
       "      <th>WDTC1</th>\n",
       "      <td>WD and tetratricopeptide repeats 1</td>\n",
       "      <td>1</td>\n",
       "      <td>1</td>\n",
       "      <td>ENSG00000142784</td>\n",
       "      <td>True</td>\n",
       "    </tr>\n",
       "    <tr>\n",
       "      <th>PLSCR3</th>\n",
       "      <td>phospholipid scramblase 3</td>\n",
       "      <td>1</td>\n",
       "      <td>1</td>\n",
       "      <td>ENSG00000187838</td>\n",
       "      <td>True</td>\n",
       "    </tr>\n",
       "    <tr>\n",
       "      <th>NPEPL1</th>\n",
       "      <td>aminopeptidase-like 1</td>\n",
       "      <td>1</td>\n",
       "      <td>1</td>\n",
       "      <td>ENSG00000215440</td>\n",
       "      <td>True</td>\n",
       "    </tr>\n",
       "  </tbody>\n",
       "</table>\n",
       "<p>977 rows × 5 columns</p>\n",
       "</div>"
      ],
      "text/plain": [
       "                                            pr_gene_title  pr_is_lm  \\\n",
       "DDR1          discoidin domain receptor tyrosine kinase 1         1   \n",
       "PAX8                                         paired box 8         1   \n",
       "RPS5                                 ribosomal protein S5         1   \n",
       "ABCF1           ATP binding cassette subfamily F member 1         1   \n",
       "SPAG7                          sperm associated antigen 7         1   \n",
       "...                                                   ...       ...   \n",
       "PPARD    peroxisome proliferator activated receptor delta         1   \n",
       "GNA11   guanine nucleotide binding protein (G protein)...         1   \n",
       "WDTC1                  WD and tetratricopeptide repeats 1         1   \n",
       "PLSCR3                          phospholipid scramblase 3         1   \n",
       "NPEPL1                              aminopeptidase-like 1         1   \n",
       "\n",
       "        pr_is_bing          gene_id  in_sciplex  \n",
       "DDR1             1  ENSG00000204580        True  \n",
       "PAX8             1  ENSG00000125618        True  \n",
       "RPS5             1  ENSG00000083845        True  \n",
       "ABCF1            1  ENSG00000204574        True  \n",
       "SPAG7            1  ENSG00000091640        True  \n",
       "...            ...              ...         ...  \n",
       "PPARD            1  ENSG00000112033        True  \n",
       "GNA11            1  ENSG00000088256        True  \n",
       "WDTC1            1  ENSG00000142784        True  \n",
       "PLSCR3           1  ENSG00000187838        True  \n",
       "NPEPL1           1  ENSG00000215440        True  \n",
       "\n",
       "[977 rows x 5 columns]"
      ]
     },
     "execution_count": 3,
     "metadata": {},
     "output_type": "execute_result"
    }
   ],
   "source": [
    "data.var"
   ]
  },
  {
   "cell_type": "code",
   "execution_count": 4,
   "metadata": {},
   "outputs": [],
   "source": [
    "control_indices =  np.where(data.obs[\"control\"] == 1)[0].tolist()\n",
    "test_indices = np.where(data.obs[\"random_split\"] == \"test\")[0].tolist()\n",
    "ood_indices =  np.where(data.obs[\"random_split\"] == \"ood\")[0].tolist()\n",
    "\n",
    "test_control = list(set(control_indices) & set(test_indices))"
   ]
  },
  {
   "cell_type": "code",
   "execution_count": 14,
   "metadata": {},
   "outputs": [
    {
     "data": {
      "text/plain": [
       "MCF7      8947\n",
       "VCAP      8456\n",
       "PC3       8255\n",
       "A375      5290\n",
       "HT29      5161\n",
       "          ... \n",
       "SNUC4       44\n",
       "SKLU1       44\n",
       "MDST8       42\n",
       "SKMEL1      39\n",
       "HS27A        5\n",
       "Name: cell_id, Length: 82, dtype: int64"
      ]
     },
     "execution_count": 14,
     "metadata": {},
     "output_type": "execute_result"
    }
   ],
   "source": [
    "data[ood_indices].obs.cell_id.value_counts()"
   ]
  },
  {
   "cell_type": "code",
   "execution_count": 6,
   "metadata": {},
   "outputs": [
    {
     "name": "stdout",
     "output_type": "stream",
     "text": [
      "dict_keys(['A375_AT1SHH09', 'A375_AT1SHH29', 'A375_AZD8330', 'A375_BRDK00640357', 'A375_BRDK55896799', 'A375_BRDK91338578', 'A375_BRDK93367411', 'A375_BRDK98948170', 'A375_COL3', 'A375_GDC0879', 'A375_GSK1059615', 'A375_GSK1070916', 'A375_KUC111109N', 'A375_KUC111774N', 'A375_MG132', 'A375_MK2206', 'A375_MLN8054', 'A375_MWSHH151', 'A375_MWSHH250', 'A375_MWSHH28', 'A375_MWSHH54', 'A375_MWSHH61', 'A375_MWSHH97', 'A375_MWSHH98', 'A375_PD0325901', 'A375_PHA793887', 'A375_SJBshh31', 'A375_STK721917', 'A375_WY01045', 'A375_amitriptyline', 'A375_amoxapine', 'A375_avicind', 'A375_betazole', 'A375_bortezomib', 'A375_canertinib', 'A375_chlorphenamine', 'A375_curcumin', 'A375_dabrafenib', 'A375_dasatinib', 'A375_dexamethasone', 'A375_diethylstilbestrol', 'A375_entinostat', 'A375_escitalopram', 'A375_estradiol', 'A375_estrone', 'A375_fluphenazine', 'A375_flutamide', 'A375_fulvestrant', 'A375_geldanamycin', 'A375_genistein', 'A375_homatropine', 'A375_imipramine', 'A375_manumycina', 'A375_mefenamicacid', 'A375_metformin', 'A375_moxisylyte', 'A375_nimodipine', 'A375_olaparib', 'A375_oxetane', 'A375_oxybutynin', 'A375_paracetamol', 'A375_procaine', 'A375_raloxifene', 'A375_resveratrol', 'A375_sirolimus', 'A375_sorafenib', 'A375_sotalol', 'A375_sulforaphane', 'A375_sulindac', 'A375_tamoxifen', 'A375_tertbutylhydroquinone', 'A375_tivozanib', 'A375_toremifene', 'A375_tozasertib', 'A375_trichostatina', 'A375_triflupromazine', 'A375_troglitazone', 'A375_vorinostat', 'A375_wortmannin', 'A549_3aminobenzamide', 'A549_ALWII383', 'A549_AT1SHH09', 'A549_AZD1480', 'A549_BAXchannelblocker', 'A549_BRDK00640357', 'A549_BRDK01737880', 'A549_BRDK40758391', 'A549_BRDK55896799', 'A549_BRDK58547375', 'A549_BRDK93367411', 'A549_BRDK98948170', 'A549_COL3', 'A549_GDC0879', 'A549_GSK1059615', 'A549_KUC111774N', 'A549_MLN8054', 'A549_MWSHH97', 'A549_MWSHH98', 'A549_NVPAUY922', 'A549_PD0325901', 'A549_PP110', 'A549_Ro281675', 'A549_SID26681509', 'A549_SJBshh31', 'A549_VX745', 'A549_WY01034', 'A549_Y27632', 'A549_auranofin', 'A549_avicind', 'A549_avicing', 'A549_barasertibHQPA', 'A549_curcumin', 'A549_dasatinib', 'A549_daunorubicin', 'A549_doxorubicin', 'A549_endoIWR1', 'A549_entinostat', 'A549_estradiol', 'A549_geldanamycin', 'A549_gemcitabine', 'A549_homoharringtonine', 'A549_methyleneblue', 'A549_mitoxantrone', 'A549_narciclasine', 'A549_olaparib', 'A549_phenanthridone', 'A549_phorbol12myristate13acetate', 'A549_raloxifene', 'A549_serdemetan', 'A549_sirolimus', 'A549_sulforaphane', 'A549_tanespimycin', 'A549_teniposide', 'A549_tertbutylhydroquinone', 'A549_thiazolopyrimidine', 'A549_thioridazine', 'A549_tozasertib', 'A549_tretinoin', 'A549_trichostatina', 'A549_triptolide', 'A549_veliparib', 'A549_vorinostat', 'A549_withaferina', 'A549_wortmannin', 'ASC_vorinostat', 'BT20_AS605240', 'BT20_AT7519', 'BT20_AZD6482', 'BT20_BMS345541', 'BT20_BX912', 'BT20_CGP60474', 'BT20_CP724714', 'BT20_CYT387', 'BT20_GDC0941', 'BT20_GSK1059615', 'BT20_GSK1070916', 'BT20_GSK2126458', 'BT20_HG511301', 'BT20_KIN001055', 'BT20_MK2206', 'BT20_NU7441', 'BT20_PD0325901', 'BT20_PD173074', 'BT20_TWS119', 'BT20_WZ3105', 'BT20_XMD1150', 'BT20_Y39983', 'BT20_ZSTK474', 'BT20_barasertibHQPA', 'BT20_buparlisib', 'BT20_dasatinib', 'BT20_fostamatinib', 'BT20_geldanamycin', 'BT20_imatinib', 'BT20_lapatinib', 'BT20_linifanib', 'BT20_linsitinib', 'BT20_neratinib', 'BT20_nintedanib', 'BT20_roscovitine', 'BT20_selumetinib', 'BT20_sorafenib', 'BT20_torin2', 'BT20_tozasertib', 'BT20_vemurafenib', 'BT20_withaferina', 'CD34_dasatinib', 'CD34_iloprost', 'HA1E_AT1SHH09', 'HA1E_BI2536', 'HA1E_BRDK58547375', 'HA1E_BRDK64024097', 'HA1E_BRDK93367411', 'HA1E_BRDK98948170', 'HA1E_GSK1059615', 'HA1E_GSK1070916', 'HA1E_HDAC1selective', 'HA1E_HDAC3selective', 'HA1E_MG132', 'HA1E_MWSHH151', 'HA1E_MWSHH28', 'HA1E_MWSHH97', 'HA1E_PCI34051', 'HA1E_PD0325901', 'HA1E_SJBshh31', 'HA1E_TAK715', 'HA1E_WY01045', 'HA1E_bambuterol', 'HA1E_bisindolylmaleimide', 'HA1E_bortezomib', 'HA1E_cyclosporina', 'HA1E_dienestrol', 'HA1E_diethylstilbestrol', 'HA1E_entinostat', 'HA1E_estradiol', 'HA1E_estriol', 'HA1E_exemestane', 'HA1E_fulvestrant', 'HA1E_furan', 'HA1E_geldanamycin', 'HA1E_genistein', 'HA1E_isonicotinohydroxamicacid', 'HA1E_lapatinib', 'HA1E_lonidamine', 'HA1E_losartan', 'HA1E_nilotinib', 'HA1E_olaparib', 'HA1E_ozagrel', 'HA1E_panobinostat', 'HA1E_probenecid', 'HA1E_purmorphamine', 'HA1E_raloxifene', 'HA1E_sirolimus', 'HA1E_sulforaphane', 'HA1E_tacedinaline', 'HA1E_tamoxifen', 'HA1E_telmisartan', 'HA1E_tertbutylhydroquinone', 'HA1E_thioridazine', 'HA1E_trichostatina', 'HA1E_tubastatina', 'HA1E_tyrphostinAG112', 'HA1E_vemurafenib', 'HA1E_vorinostat', 'HA1E_wortmannin', 'HCC515_BRDK55896799', 'HCC515_BRDK91338578', 'HCC515_BRDK93367411', 'HCC515_BRDK98948170', 'HCC515_CGP60474', 'HCC515_GSK1059615', 'HCC515_KUC111109N', 'HCC515_MWSHH151', 'HCC515_MWSHH28', 'HCC515_MWSHH61', 'HCC515_MWSHH97', 'HCC515_NVPTAE684', 'HCC515_PD0325901', 'HCC515_SJBshh31', 'HCC515_TLHRAS61', 'HCC515_WY01034', 'HCC515_WY01045', 'HCC515_avicind', 'HCC515_avicing', 'HCC515_curcumin', 'HCC515_geldanamycin', 'HCC515_genistein', 'HCC515_oxetane', 'HCC515_sirolimus', 'HCC515_sulforaphane', 'HCC515_tertbutylhydroquinone', 'HCC515_trichostatina', 'HCC515_veliparib', 'HCC515_vorinostat', 'HCC515_withaferina', 'HCC515_wortmannin', 'HEK293T_benzonatate', 'HEK293T_dabrafenib', 'HEK293T_dyphylline', 'HEK293T_imipramine', 'HEK293T_moxisylyte', 'HEK293T_noretynodrel', 'HEK293T_sorafenib', 'HEK293T_sulfaphenazole', 'HEK293T_todralazine', 'HEK293T_triflupromazine', 'HEK293T_vorinostat', 'HELA_MG132', 'HELA_bortezomib', 'HEPG2_AS601245', 'HEPG2_BRDK00640357', 'HEPG2_BRDK93367411', 'HEPG2_BRDK98948170', 'HEPG2_GSK1059615', 'HEPG2_KUC111109N', 'HEPG2_MWSHH151', 'HEPG2_MWSHH54', 'HEPG2_MWSHH61', 'HEPG2_PD0325901', 'HEPG2_STK721917', 'HEPG2_ZM447439', 'HEPG2_curcumin', 'HEPG2_dasatinib', 'HEPG2_estradiol', 'HEPG2_geldanamycin', 'HEPG2_genistein', 'HEPG2_raloxifene', 'HEPG2_tamoxifen', 'HEPG2_tertbutylhydroquinone', 'HEPG2_trichostatina', 'HEPG2_tyrphostinAG1478', 'HEPG2_vorinostat', 'HEPG2_withaferina', 'HEPG2_wortmannin', 'HL60_BRDK63513868', 'HL60_BRDK65971331', 'HL60_BRDK85822033', 'HL60_carbacyclin', 'HL60_geldanamycin', 'HL60_iloprost', 'HME1_CGP60474', 'HME1_GDC0941', 'HME1_PD0325901', 'HME1_dasatinib', 'HME1_sirolimus', 'HME1_torin1', 'HS578T_AS605240', 'HS578T_AZD6482', 'HS578T_AZD7762', 'HS578T_BI2536', 'HS578T_CGP60474', 'HS578T_GSK1059615', 'HS578T_GSK1904529A', 'HS578T_GW843682X', 'HS578T_JNK9L', 'HS578T_NVPBEZ235', 'HS578T_PF431396', 'HS578T_PF477736', 'HS578T_PI103', 'HS578T_QLX138', 'HS578T_SU11274', 'HS578T_TWS119', 'HS578T_XMD1150', 'HS578T_Y39983', 'HS578T_YM201636', 'HS578T_afatinib', 'HS578T_dasatinib', 'HS578T_lapatinib', 'HS578T_linifanib', 'HS578T_linsitinib', 'HS578T_nintedanib', 'HS578T_pelitinib', 'HS578T_roscovitine', 'HS578T_saracatinib', 'HS578T_sirolimus', 'HT29_BRDK00640357', 'HT29_BRDK55896799', 'HT29_BRDK58547375', 'HT29_BRDK91338578', 'HT29_BRDK93367411', 'HT29_BRDK98948170', 'HT29_CGP60474', 'HT29_ENMD2076', 'HT29_GSK1059615', 'HT29_GSK461364', 'HT29_KUC111774N', 'HT29_MG132', 'HT29_MWSHH28', 'HT29_MWSHH97', 'HT29_MWSHH98', 'HT29_PD0325901', 'HT29_PF562271', 'HT29_SU11652', 'HT29_WY01034', 'HT29_WY01045', 'HT29_alvocidib', 'HT29_anagrelide', 'HT29_avicing', 'HT29_belinostat', 'HT29_bortezomib', 'HT29_curcumin', 'HT29_dasatinib', 'HT29_dienestrol', 'HT29_digoxin', 'HT29_dipyridamole', 'HT29_entinostat', 'HT29_estradiol', 'HT29_estrone', 'HT29_etomoxir', 'HT29_fulvestrant', 'HT29_geldanamycin', 'HT29_genistein', 'HT29_hydroxyl', 'HT29_indapamide', 'HT29_manumycina', 'HT29_masitinib', 'HT29_nicardipine', 'HT29_nilotinib', 'HT29_palbociclib', 'HT29_pentobarbital', 'HT29_raloxifene', 'HT29_rilmenidine', 'HT29_sirolimus', 'HT29_sulforaphane', 'HT29_tamoxifen', 'HT29_tertbutylhydroquinone', 'HT29_thalidomide', 'HT29_tolazamide', 'HT29_tolbutamide', 'HT29_tozasertib', 'HT29_trichostatina', 'HT29_veliparib', 'HT29_vorinostat', 'HT29_wortmannin', 'JURKAT_BRDK00640357', 'JURKAT_BRDK55896799', 'JURKAT_BRDK58547375', 'JURKAT_MWSHH151', 'JURKAT_MWSHH250', 'JURKAT_MWSHH28', 'JURKAT_MWSHH97', 'JURKAT_STK721917', 'JURKAT_WY01034', 'JURKAT_WY01045', 'JURKAT_curcumin', 'JURKAT_hydroxyl', 'JURKAT_sulforaphane', 'JURKAT_tertbutylhydroquinone', 'LNCAP_WYE125132', 'LNCAP_XMD1150', 'LNCAP_Y39983', 'LNCAP_alvocidib', 'LNCAP_gefitinib', 'LNCAP_withaferina', 'MCF10A_AS601245', 'MCF10A_AZD7762', 'MCF10A_CGP60474', 'MCF10A_CHIR99021', 'MCF10A_GSK1059615', 'MCF10A_GSK2126458', 'MCF10A_HG511301', 'MCF10A_JNK9L', 'MCF10A_LDN193189', 'MCF10A_MK2206', 'MCF10A_NU7441', 'MCF10A_NVPTAE684', 'MCF10A_PD0325901', 'MCF10A_PD184352', 'MCF10A_PHA793887', 'MCF10A_QLXII47', 'MCF10A_TWS119', 'MCF10A_WH4023', 'MCF10A_WYE125132', 'MCF10A_XMD1150', 'MCF10A_brivanib', 'MCF10A_dasatinib', 'MCF10A_dovitinib', 'MCF10A_geldanamycin', 'MCF10A_lapatinib', 'MCF10A_neratinib', 'MCF10A_nintedanib', 'MCF10A_palbociclib', 'MCF10A_radicicol', 'MCF10A_saracatinib', 'MCF10A_sorafenib', 'MCF10A_torin2', 'MCF10A_tozasertib', 'MCF10A_trametinib', 'MCF7_3aminobenzamide', 'MCF7_ABT737', 'MCF7_ALWII497', 'MCF7_AM580', 'MCF7_AS605240', 'MCF7_AT7867', 'MCF7_AZ628', 'MCF7_AZD5438', 'MCF7_AZD6482', 'MCF7_AZD7762', 'MCF7_AZD8055', 'MCF7_BAXchannelblocker', 'MCF7_BCIhydrochloride', 'MCF7_BI2536', 'MCF7_BMS536924', 'MCF7_BRDA36275421', 'MCF7_BRDK00640357', 'MCF7_BRDK01737880', 'MCF7_BRDK04156788', 'MCF7_BRDK05649647', 'MCF7_BRDK50776152', 'MCF7_BRDK58547375', 'MCF7_BRDK64024097', 'MCF7_BRDK91338578', 'MCF7_BRDK92317137', 'MCF7_BRDK93367411', 'MCF7_BX912', 'MCF7_CD437', 'MCF7_CGP60474', 'MCF7_CGS15943', 'MCF7_CP724714', 'MCF7_DAC003', 'MCF7_DAC004', 'MCF7_DAC009', 'MCF7_DAC012', 'MCF7_DAC013', 'MCF7_EMFsumo111', 'MCF7_GDC0941', 'MCF7_GSK1059615', 'MCF7_GSK1070916', 'MCF7_GSK429286A', 'MCF7_GSK461364', 'MCF7_Gossypetin', 'MCF7_HDAC1selective', 'MCF7_HDAC3selective', 'MCF7_HMN214', 'MCF7_JW7241', 'MCF7_KU0060648', 'MCF7_KUC111774N', 'MCF7_LY294002', 'MCF7_MD920', 'MCF7_MG132', 'MCF7_MK2206', 'MCF7_MLN8054', 'MCF7_MWSHH151', 'MCF7_MWSHH250', 'MCF7_Merck60', 'MCF7_NSC632839', 'MCF7_NU1025', 'MCF7_NU7441', 'MCF7_NVPAUY922', 'MCF7_NVPBEZ235', 'MCF7_NVPTAE684', 'MCF7_PCI34051', 'MCF7_PD0325901', 'MCF7_PD184352', 'MCF7_PF04217903', 'MCF7_PHA665752', 'MCF7_PI103', 'MCF7_PJ34', 'MCF7_PLX4720', 'MCF7_PT630', 'MCF7_QLX138', 'MCF7_QLXII47', 'MCF7_SA1459002', 'MCF7_SA1921867', 'MCF7_SA440832', 'MCF7_SA441092', 'MCF7_SB203580', 'MCF7_SKIII', 'MCF7_SN38', 'MCF7_ST057710', 'MCF7_SU11274', 'MCF7_SYKinhibitor', 'MCF7_TPCA1', 'MCF7_TWS119', 'MCF7_WZ3105', 'MCF7_XMD892', 'MCF7_Y27632', 'MCF7_afatinib', 'MCF7_albendazole', 'MCF7_alphatocopherol', 'MCF7_alvespimycin', 'MCF7_alvocidib', 'MCF7_apicidin', 'MCF7_arachidonyltrifluoromethane', 'MCF7_artesunate', 'MCF7_avicing', 'MCF7_barasertibHQPA', 'MCF7_benzohydroxamicacid', 'MCF7_bortezomib', 'MCF7_brivanib', 'MCF7_bromocriptine', 'MCF7_brompheniramine', 'MCF7_buparlisib', 'MCF7_carbamazepine', 'MCF7_carbidopa', 'MCF7_chloroquine', 'MCF7_chlorphenamine', 'MCF7_chlorpromazine', 'MCF7_chlorthalidone', 'MCF7_citalopram', 'MCF7_crizotinib', 'MCF7_curcumin', 'MCF7_dasatinib', 'MCF7_daunorubicin', 'MCF7_dexamethasone', 'MCF7_diethylstilbestrol', 'MCF7_diflunisal', 'MCF7_dihydroergocristine', 'MCF7_diltiazem', 'MCF7_doxepin', 'MCF7_doxorubicin', 'MCF7_emetine', 'MCF7_endoIWR1', 'MCF7_entinostat', 'MCF7_eriodictyol', 'MCF7_erlotinib', 'MCF7_erythromycin', 'MCF7_estradiol', 'MCF7_felodipine', 'MCF7_finasteride', 'MCF7_flecainide', 'MCF7_fluoropyruvate', 'MCF7_fluphenazine', 'MCF7_flutamide', 'MCF7_foretinib', 'MCF7_fostamatinib', 'MCF7_fulvestrant', 'MCF7_gefitinib', 'MCF7_geldanamycin', 'MCF7_genistein', 'MCF7_glibenclamide', 'MCF7_gossypin', 'MCF7_homoharringtonine', 'MCF7_imatinib', 'MCF7_importazole', 'MCF7_indapamide', 'MCF7_ingenol', 'MCF7_iniparib', 'MCF7_irsogladine', 'MCF7_isonicotinohydroxamicacid', 'MCF7_levonorgestrel', 'MCF7_lidocaine', 'MCF7_linifanib', 'MCF7_linsitinib', 'MCF7_manumycina', 'MCF7_maprotiline', 'MCF7_masitinib', 'MCF7_mebendazole', 'MCF7_menadione', 'MCF7_mepacrine', 'MCF7_mestinon', 'MCF7_methyleneblue', 'MCF7_midodrine', 'MCF7_mitoxantrone', 'MCF7_molindone', 'MCF7_morin', 'MCF7_mycophenolicacid', 'MCF7_myricetin', 'MCF7_naltrexone', 'MCF7_neratinib', 'MCF7_nevirapine', 'MCF7_niclosamide', 'MCF7_nilotinib', 'MCF7_nimodipine', 'MCF7_nintedanib', 'MCF7_olaparib', 'MCF7_oxetane', 'MCF7_palbociclib', 'MCF7_panobinostat', 'MCF7_parthenolide', 'MCF7_pazopanib', 'MCF7_pentoxifylline', 'MCF7_perhexiline', 'MCF7_phloretin', 'MCF7_picotamide', 'MCF7_pindolol', 'MCF7_piperlongumine', 'MCF7_ponatinib', 'MCF7_pramipexole', 'MCF7_pravastatin', 'MCF7_radicicol', 'MCF7_raloxifene', 'MCF7_resveratrol', 'MCF7_rhamnetin', 'MCF7_rolipram', 'MCF7_ropinirole', 'MCF7_rosiglitazone', 'MCF7_ruxolitinib', 'MCF7_saracatinib', 'MCF7_scriptaid', 'MCF7_selumetinib', 'MCF7_siguazodan', 'MCF7_sildenafil', 'MCF7_simvastatin', 'MCF7_sirolimus', 'MCF7_sorafenib', 'MCF7_sulforaphane', 'MCF7_tacedinaline', 'MCF7_tamoxifen', 'MCF7_tanespimycin', 'MCF7_temozolomide', 'MCF7_terbinafine', 'MCF7_tertbutylhydroquinone', 'MCF7_thiazolopyrimidine', 'MCF7_thioridazine', 'MCF7_ticlopidine', 'MCF7_tivozanib', 'MCF7_tolazamide', 'MCF7_toremifene', 'MCF7_torin1', 'MCF7_tozasertib', 'MCF7_tretinoin', 'MCF7_triamcinolone', 'MCF7_trichostatina', 'MCF7_trifluoperazine', 'MCF7_tubastatina', 'MCF7_valproicacid', 'MCF7_veliparib', 'MCF7_vorinostat', 'MCF7_withaferina', 'MCF7_wortmannin', 'MDAMB231_ALWII383', 'MDAMB231_AT7519', 'MDAMB231_AZD6482', 'MDAMB231_BMS345541', 'MDAMB231_BX912', 'MDAMB231_CGP60474', 'MDAMB231_CYT387', 'MDAMB231_GDC0941', 'MDAMB231_GSK1059615', 'MDAMB231_GSK690693', 'MDAMB231_HG58801', 'MDAMB231_JNK9L', 'MDAMB231_JW7241', 'MDAMB231_PD173074', 'MDAMB231_PD184352', 'MDAMB231_PF562271', 'MDAMB231_YM201636', 'MDAMB231_afatinib', 'MDAMB231_barasertibHQPA', 'MDAMB231_buparlisib', 'MDAMB231_dasatinib', 'MDAMB231_erlotinib', 'MDAMB231_fostamatinib', 'MDAMB231_linifanib', 'MDAMB231_neratinib', 'MDAMB231_radicicol', 'MDAMB231_selumetinib', 'MDAMB231_sirolimus', 'MDAMB231_withaferina', 'NEU_vorinostat', 'NEU_wortmannin', 'NOMO1_BRDK51556300', 'NOMO1_MWSTK3397', 'NOMO1_TULXIX003', 'NOMO1_vorinostat', 'NPC.TAK_olaparib', 'NPC_PD0325901', 'NPC_vorinostat', 'PC3_AT1SHH09', 'PC3_AT1SHH29', 'PC3_AZ628', 'PC3_BRDK00640357', 'PC3_BRDK01737880', 'PC3_BRDK38044934', 'PC3_BRDK55896799', 'PC3_BRDK64024097', 'PC3_BRDK84023371', 'PC3_BRDK91338578', 'PC3_BRDK93367411', 'PC3_BRDK98948170', 'PC3_COL3', 'PC3_DAC003', 'PC3_DAC004', 'PC3_DAC012', 'PC3_DAC013', 'PC3_GSK1059615', 'PC3_GSK429286A', 'PC3_Gossypetin', 'PC3_HDAC1selective', 'PC3_HDAC3selective', 'PC3_KUC111109N', 'PC3_LY294002', 'PC3_MG132', 'PC3_MK2206', 'PC3_MLN8054', 'PC3_MWSHH151', 'PC3_MWSHH250', 'PC3_MWSHH28', 'PC3_MWSHH54', 'PC3_MWSHH61', 'PC3_MWSHH97', 'PC3_MWSHH98', 'PC3_Merck60', 'PC3_PCI34051', 'PC3_PD0325901', 'PC3_PD173074', 'PC3_PD184352', 'PC3_SJBshh31', 'PC3_ST057710', 'PC3_ST059620', 'PC3_TLAA09', 'PC3_VX745', 'PC3_WY01034', 'PC3_WY01045', 'PC3_ZM447439', 'PC3_alphaestradiol', 'PC3_alvocidib', 'PC3_avicind', 'PC3_avicing', 'PC3_benzamil', 'PC3_benzohydroxamicacid', 'PC3_bortezomib', 'PC3_bucladesine', 'PC3_bumetanide', 'PC3_buspirone', 'PC3_chlorphenamine', 'PC3_citalopram', 'PC3_clomifene', 'PC3_crizotinib', 'PC3_curcumin', 'PC3_danusertib', 'PC3_dasatinib', 'PC3_daunorubicin', 'PC3_dexamethasone', 'PC3_diethylstilbestrol', 'PC3_ebselen', 'PC3_entinostat', 'PC3_equilin', 'PC3_eriodictyol', 'PC3_estradiol', 'PC3_estriol', 'PC3_flecainide', 'PC3_fluphenazine', 'PC3_flutamide', 'PC3_forskolin', 'PC3_fulvestrant', 'PC3_geldanamycin', 'PC3_gemcitabine', 'PC3_gemfibrozil', 'PC3_genistein', 'PC3_glibenclamide', 'PC3_glimepiride', 'PC3_gossypin', 'PC3_hydroxyl', 'PC3_ibuprofen', 'PC3_ilomastat', 'PC3_indapamide', 'PC3_indirubin', 'PC3_isonicotinohydroxamicacid', 'PC3_labetalol', 'PC3_levonorgestrel', 'PC3_loperamide', 'PC3_medrysone', 'PC3_mestranol', 'PC3_midodrine', 'PC3_milrinone', 'PC3_mitoxantrone', 'PC3_morin', 'PC3_myricetin', 'PC3_nilotinib', 'PC3_oxetane', 'PC3_panobinostat', 'PC3_pelitinib', 'PC3_penciclovir', 'PC3_propafenone', 'PC3_pyrazinamide', 'PC3_pyrimethamine', 'PC3_radicicol', 'PC3_raloxifene', 'PC3_resveratrol', 'PC3_selumetinib', 'PC3_sirolimus', 'PC3_sulforaphane', 'PC3_tacedinaline', 'PC3_tamoxifen', 'PC3_temozolomide', 'PC3_tertbutylhydroquinone', 'PC3_thioridazine', 'PC3_tigecycline', 'PC3_tivozanib', 'PC3_torasemide', 'PC3_toremifene', 'PC3_tozasertib', 'PC3_tranilast', 'PC3_tretinoin', 'PC3_trichostatina', 'PC3_trifluoperazine', 'PC3_troglitazone', 'PC3_tubastatina', 'PC3_valproicacid', 'PC3_vinburnine', 'PC3_vorinostat', 'PC3_withaferina', 'PC3_wortmannin', 'PC3_yohimbine', 'SKBR3_AS605240', 'SKBR3_AZD5438', 'SKBR3_AZD6482', 'SKBR3_AZD7762', 'SKBR3_AZD8330', 'SKBR3_CGP60474', 'SKBR3_CP724714', 'SKBR3_GSK1059615', 'SKBR3_GSK1904529A', 'SKBR3_GSK429286A', 'SKBR3_GW843682X', 'SKBR3_HG58801', 'SKBR3_JW7241', 'SKBR3_LDN193189', 'SKBR3_MLN8054', 'SKBR3_NU7441', 'SKBR3_PD0325901', 'SKBR3_PD184352', 'SKBR3_PF477736', 'SKBR3_PHA793887', 'SKBR3_QLX138', 'SKBR3_SAR245408', 'SKBR3_TG101348', 'SKBR3_THZ29801', 'SKBR3_WYE125132', 'SKBR3_WZ3105', 'SKBR3_WZ4002', 'SKBR3_XMD1150', 'SKBR3_barasertibHQPA', 'SKBR3_buparlisib', 'SKBR3_canertinib', 'SKBR3_dasatinib', 'SKBR3_erlotinib', 'SKBR3_fostamatinib', 'SKBR3_geldanamycin', 'SKBR3_mitoxantrone', 'SKBR3_neratinib', 'SKBR3_nintedanib', 'SKBR3_quizartinib', 'SKBR3_saracatinib', 'SKBR3_selumetinib', 'SKBR3_torin2', 'SKL.C_GSK1059615', 'SKL.C_PD0325901', 'THP1_BRDK23582869', 'THP1_MWSTK33100', 'THP1_TULXIX002', 'THP1_TULXX023', 'THP1_TULXXI039', 'U266_BRDK00640357', 'U266_BRDK98948170', 'U266_KUC111774N', 'U266_MWSHH61', 'U266_MWSHH97', 'U266_SJBshh31', 'U266_sulforaphane', 'U266_tertbutylhydroquinone', 'U937_iloprost', 'VCAP_AZD6482', 'VCAP_BRDA51929314', 'VCAP_BRDK06574200', 'VCAP_BRDK08663380', 'VCAP_BRDK38044934', 'VCAP_BRDK45853100', 'VCAP_BRDK46791751', 'VCAP_BRDK52904470', 'VCAP_BRDK77432048', 'VCAP_BRDK84023371', 'VCAP_LY294002', 'VCAP_NNC550396', 'VCAP_YK4279', 'VCAP_alexidine', 'VCAP_altretamine', 'VCAP_danazol', 'VCAP_dexamethasone', 'VCAP_fluphenazine', 'VCAP_fulvestrant', 'VCAP_geldanamycin', 'VCAP_genistein', 'VCAP_imipramine', 'VCAP_naltrexone', 'VCAP_olaparib', 'VCAP_sirolimus', 'VCAP_thioridazine', 'VCAP_trichostatina', 'VCAP_troglitazone', 'VCAP_vorinostat', 'VCAP_withaferina', 'VCAP_wortmannin', 'YAPC_MG132', 'YAPC_bortezomib', 'YAPC_sotalol'])\n"
     ]
    }
   ],
   "source": [
    "pred_dict = dict(np.load(\"prediction_results.npz\", allow_pickle=True))\n",
    "print(pred_dict.keys())"
   ]
  },
  {
   "cell_type": "code",
   "execution_count": 7,
   "metadata": {},
   "outputs": [
    {
     "data": {
      "text/plain": [
       "'HELA_MG132'"
      ]
     },
     "execution_count": 7,
     "metadata": {},
     "output_type": "execute_result"
    }
   ],
   "source": [
    "max_smp = 0\n",
    "max_cov_drug_key = ''\n",
    "for cov_drug_key in pred_dict.keys():\n",
    "    mean_pred, ture, mean_score, var_score, mean_score_de, var_score_de = pred_dict[cov_drug_key].item().values()\n",
    "    if ture.shape[0] > max_smp:\n",
    "        max_cov_drug_key = cov_drug_key\n",
    "        max_smp = ture.shape[0]\n",
    "max_cov_drug_key"
   ]
  },
  {
   "cell_type": "code",
   "execution_count": 8,
   "metadata": {},
   "outputs": [],
   "source": [
    "cov_drug_key = 'HELA_MG132'\n",
    "mean_pred, ture, mean_score, var_score, mean_score_de, var_score_de = pred_dict[cov_drug_key].item().values()"
   ]
  },
  {
   "cell_type": "code",
   "execution_count": 11,
   "metadata": {},
   "outputs": [
    {
     "data": {
      "text/plain": [
       "(977,)"
      ]
     },
     "execution_count": 11,
     "metadata": {},
     "output_type": "execute_result"
    }
   ],
   "source": [
    "mean_pred.mean(axis=0).shape"
   ]
  },
  {
   "cell_type": "code",
   "execution_count": 75,
   "metadata": {},
   "outputs": [
    {
     "data": {
      "text/plain": [
       "(304, 977)"
      ]
     },
     "execution_count": 75,
     "metadata": {},
     "output_type": "execute_result"
    }
   ],
   "source": [
    "mean_pred.shape"
   ]
  },
  {
   "cell_type": "code",
   "execution_count": 65,
   "metadata": {},
   "outputs": [
    {
     "name": "stderr",
     "output_type": "stream",
     "text": [
      "/root/miniconda3/envs/chemCPA/lib/python3.8/site-packages/anndata/_core/anndata.py:1838: UserWarning: Observation names are not unique. To make them unique, call `.obs_names_make_unique`.\n",
      "  utils.warn_names_duplicates(\"obs\")\n"
     ]
    }
   ],
   "source": [
    "pred_adata = sc.AnnData(mean_pred, var=data.var) # from test control\n",
    "true_adata = sc.AnnData(ture, var=data.var)\n",
    "pred_adata.obs['condition'] = 'pred'\n",
    "true_adata.obs['condition'] = 'true'\n",
    "eval_adata = anndata.concat([pred_adata, true_adata])"
   ]
  },
  {
   "cell_type": "code",
   "execution_count": 67,
   "metadata": {},
   "outputs": [
    {
     "name": "stdout",
     "output_type": "stream",
     "text": [
      "WARNING: saving figure to file figures/umapHELA_MG132_distribution.png\n"
     ]
    },
    {
     "data": {
      "image/png": "[encoded data removed]",
      "text/plain": [
       "<Figure size 640x480 with 1 Axes>"
      ]
     },
     "metadata": {},
     "output_type": "display_data"
    }
   ],
   "source": [
    "sc.pp.neighbors(eval_adata)\n",
    "sc.tl.umap(eval_adata)\n",
    "save_path = f\"{cov_drug_key}_distribution.png\"\n",
    "sc.pl.umap(eval_adata, color=[\"condition\"], wspace=0.4, frameon=False, \n",
    "           size=20, save=save_path)"
   ]
  },
  {
   "cell_type": "code",
   "execution_count": null,
   "metadata": {},
   "outputs": [],
   "source": [
    "for cov_drug in pred_dict.keys():\n",
    "    mean_pred, ture, _ = pred_dict[cov_drug]\n",
    "    pred_adata = sc.AnnData(mean_pred, var=data.var)\n",
    "    true_adata = sc.AnnData(mean_pred, var=data.var)"
   ]
  }
 ],
 "metadata": {
  "kernelspec": {
   "display_name": "chemCPA",
   "language": "python",
   "name": "python3"
  },
  "language_info": {
   "codemirror_mode": {
    "name": "ipython",
    "version": 3
   },
   "file_extension": ".py",
   "mimetype": "text/x-python",
   "name": "python",
   "nbconvert_exporter": "python",
   "pygments_lexer": "ipython3",
   "version": "3.8.15"
  }
 },
 "nbformat": 4,
 "nbformat_minor": 2
}
